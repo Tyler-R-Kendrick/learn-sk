{
 "cells": [
  {
   "cell_type": "markdown",
   "metadata": {},
   "source": [
    "# Create Kernels\n",
    "\n",
    "Kernel instances should always be created from a kernel builder, which can be constructed by the following line: ```Kernel.CreateBuilder()```."
   ]
  },
  {
   "cell_type": "code",
   "execution_count": null,
   "metadata": {
    "dotnet_interactive": {
     "language": "csharp"
    },
    "polyglot_notebook": {
     "kernelName": "csharp"
    },
    "vscode": {
     "languageId": "polyglot-notebook"
    }
   },
   "outputs": [],
   "source": [
    "#r \"nuget:Microsoft.SemanticKernel, 1.20.0-alpha\""
   ]
  },
  {
   "cell_type": "code",
   "execution_count": 17,
   "metadata": {
    "dotnet_interactive": {
     "language": "csharp"
    },
    "polyglot_notebook": {
     "kernelName": "csharp"
    },
    "vscode": {
     "languageId": "polyglot-notebook"
    }
   },
   "outputs": [],
   "source": [
    "using Microsoft.SemanticKernel;\n",
    "\n",
    "var kernelBuilder = Kernel.CreateBuilder();"
   ]
  },
  {
   "cell_type": "markdown",
   "metadata": {},
   "source": [
    "## AI Services\n",
    "\n",
    "Different MaaS (Models as a Service) providers are supported by SemanticKernel through the use of extensible AI Services known as \"Connectors\", implemented through the \"IAIService\" interface. Different implementations of this interface provide different AI capabilities such as text-to-image, embedding-generation, and chat-completion services.\n",
    "\n",
    "A kernel may use one or many services - all of which are configured by the kernel builder, using the Extension Methods provided by the relevant NuGet packages."
   ]
  },
  {
   "cell_type": "markdown",
   "metadata": {},
   "source": [
    "### Open AI Services\n",
    "\n",
    "Open AI supports Chat Completion, Text Generation, Text-to-Image, "
   ]
  },
  {
   "cell_type": "code",
   "execution_count": 20,
   "metadata": {
    "dotnet_interactive": {
     "language": "csharp"
    },
    "polyglot_notebook": {
     "kernelName": "csharp"
    },
    "vscode": {
     "languageId": "polyglot-notebook"
    }
   },
   "outputs": [],
   "source": [
    "#!set --name openAiModelId --value @password:\"Please enter the required model Id you've configured.\"\n",
    "#!set --name openAiApiKey --value @password:\"Please enter the required api key for OpenAI.\"\n",
    "#!set --name openAiOrgId --value @password:\"Please enter the optional org id for OpenAI.\"\n",
    "\n",
    "#!set --byref --value openAiModelId --name modelId\n",
    "#!set --byref --value vopenAiApiKey --name apiKey\n",
    "#!set --byref --value openAiOrgId --name orgId"
   ]
  },
  {
   "cell_type": "code",
   "execution_count": null,
   "metadata": {
    "dotnet_interactive": {
     "language": "csharp"
    },
    "polyglot_notebook": {
     "kernelName": "csharp"
    },
    "vscode": {
     "languageId": "polyglot-notebook"
    }
   },
   "outputs": [],
   "source": [
    "#r \"nuget:Microsoft.SemanticKernel.Connectors.OpenAI, 1.20.0-alpha\""
   ]
  },
  {
   "cell_type": "code",
   "execution_count": 23,
   "metadata": {
    "dotnet_interactive": {
     "language": "csharp"
    },
    "polyglot_notebook": {
     "kernelName": "csharp"
    },
    "vscode": {
     "languageId": "polyglot-notebook"
    }
   },
   "outputs": [],
   "source": [
    "using Microsoft.SemanticKernel;\n",
    "\n",
    "#pragma warning disable SKEXP0010\n",
    "kernelBuilder.AddOpenAITextEmbeddingGeneration(\n",
    "    modelId: modelId,\n",
    "    apiKey: apiKey,\n",
    "    orgId: orgId,\n",
    "    serviceId: \"open-ai\", //Use a service Id so we can select which AI Service we want to use.\n",
    "    httpClient: null,\n",
    "    dimensions: null);"
   ]
  },
  {
   "cell_type": "markdown",
   "metadata": {},
   "source": [
    "## Open AI Models\n",
    "\n",
    "## Azure Open AI Models\n",
    "\n",
    "## Azure AI Inference Services\n",
    "\n",
    "## HuggingFace Models\n",
    "\n",
    "## Onyx Runtime Models\n",
    "\n",
    "### GPT\n",
    "\n",
    "### Whisper\n",
    "\n",
    "### DALL-E\n",
    "\n",
    "## Local Models\n",
    "\n",
    "## Patterns and Practices\n",
    "\n",
    "### Principle of Least Privelege"
   ]
  }
 ],
 "metadata": {
  "kernelspec": {
   "display_name": ".NET (C#)",
   "language": "C#",
   "name": ".net-csharp"
  },
  "language_info": {
   "name": "csharp"
  },
  "polyglot_notebook": {
   "kernelInfo": {
    "defaultKernelName": "csharp",
    "items": [
     {
      "aliases": [],
      "name": "csharp"
     }
    ]
   }
  }
 },
 "nbformat": 4,
 "nbformat_minor": 2
}
