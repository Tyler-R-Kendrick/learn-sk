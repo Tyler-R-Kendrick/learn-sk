{
 "cells": [
  {
   "cell_type": "code",
   "execution_count": null,
   "metadata": {},
   "outputs": [],
   "source": [
    "# Create Kernels\n",
    "https://learn.microsoft.com/en-us/azure/ai-services/openai/concepts/advanced-prompt-engineering?pivots=programming-language-chat-completions\n",
    "\n",
    "## Open AI Models\n",
    "\n",
    "### GPT\n",
    "\n",
    "### Whisper\n",
    "\n",
    "### DALL-E\n",
    "\n",
    "## Local Models\n",
    "\n",
    "## Patterns and Practices\n",
    "\n",
    "### Principle of Least Privelege\n"
   ]
  }
 ],
 "metadata": {
  "language_info": {
   "name": "csharp"
  }
 },
 "nbformat": 4,
 "nbformat_minor": 2
}
