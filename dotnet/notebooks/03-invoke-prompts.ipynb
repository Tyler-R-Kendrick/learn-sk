{
 "cells": [
  {
   "cell_type": "code",
   "execution_count": null,
   "metadata": {},
   "outputs": [],
   "source": [
    "# Prompts\n",
    "\n",
    "## Template Engines\n",
    "\n",
    "### Yaml\n",
    "\n",
    "### Handlebars\n",
    "\n",
    "### Prompty\n",
    "\n",
    "## Patterns and Practices\n",
    "\n",
    "### Zero-Shot\n",
    "\n",
    "### One-Shot\n",
    "\n",
    "### Few-Shot\n"
   ]
  }
 ],
 "metadata": {
  "language_info": {
   "name": "csharp"
  }
 },
 "nbformat": 4,
 "nbformat_minor": 2
}
