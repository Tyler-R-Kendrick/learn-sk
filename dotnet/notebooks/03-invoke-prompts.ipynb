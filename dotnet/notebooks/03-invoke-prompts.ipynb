{
 "cells": [
  {
   "cell_type": "code",
   "execution_count": null,
   "metadata": {
    "dotnet_interactive": {
     "language": "csharp"
    },
    "polyglot_notebook": {
     "kernelName": "csharp"
    },
    "vscode": {
     "languageId": "polyglot-notebook"
    }
   },
   "outputs": [],
   "source": [
    "#!import \"02-create-kernels.ipynb\""
   ]
  },
  {
   "cell_type": "markdown",
   "metadata": {},
   "source": [
    "\n",
    "# Prompts\n",
    "\n",
    "## Template Engines\n",
    "\n",
    "### Yaml\n",
    "\n",
    "### Handlebars\n",
    "\n",
    "### Prompty\n",
    "\n",
    "## Patterns and Practices\n",
    "\n",
    "### Zero-Shot\n",
    "\n",
    "### One-Shot\n",
    "\n",
    "### Few-Shot\n"
   ]
  }
 ],
 "metadata": {
  "kernelspec": {
   "display_name": ".NET (C#)",
   "language": "C#",
   "name": ".net-csharp"
  },
  "language_info": {
   "name": "csharp"
  },
  "polyglot_notebook": {
   "kernelInfo": {
    "defaultKernelName": "csharp",
    "items": [
     {
      "aliases": [],
      "name": "csharp"
     }
    ]
   }
  }
 },
 "nbformat": 4,
 "nbformat_minor": 2
}
