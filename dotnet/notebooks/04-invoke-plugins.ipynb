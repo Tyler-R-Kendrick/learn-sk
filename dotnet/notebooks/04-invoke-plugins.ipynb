{
 "cells": [
  {
   "cell_type": "code",
   "execution_count": null,
   "metadata": {},
   "outputs": [],
   "source": [
    "# Plugins\n",
    "\n",
    "https://learn.microsoft.com/en-us/semantic-kernel/concepts/ai-services/chat-completion/function-calling?pivots=programming-language-csharp#1-serializing-the-functions\n",
    "\n",
    "reducer\n",
    "https://learn.microsoft.com/en-us/semantic-kernel/concepts/ai-services/chat-completion/chat-history?pivots=programming-language-csharp\n",
    "\n",
    "## Built-in Plugins\n",
    "\n",
    "## OpenAPI Plugins\n",
    "\n",
    "## Grpc Plugins\n",
    "\n",
    "## Custom Plugins\n",
    "\n",
    "## Patterns and Practices\n",
    "\n",
    "### Auto-Registration\n",
    "\n",
    "### Runtime Registration\n",
    "\n",
    "### Function Decomposition\n"
   ]
  }
 ],
 "metadata": {
  "language_info": {
   "name": "csharp"
  }
 },
 "nbformat": 4,
 "nbformat_minor": 2
}
