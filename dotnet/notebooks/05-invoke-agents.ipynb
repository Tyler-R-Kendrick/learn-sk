{
 "cells": [
  {
   "cell_type": "code",
   "execution_count": null,
   "metadata": {},
   "outputs": [],
   "source": [
    "# Agents\n",
    "\n",
    "## Single Agent Chat\n",
    "\n",
    "## Multi-Agent Chat\n",
    "\n",
    "## Human-in-the-loop\n",
    "\n",
    "## OpenAI Assistants\n",
    "\n",
    "## Patterns and Practices\n",
    "\n",
    "### Agent Construction (Builders and Factories)\n",
    "\n",
    "### Coupling and Cohesion (with Plugins / Functions)\n"
   ]
  }
 ],
 "metadata": {
  "language_info": {
   "name": "csharp"
  }
 },
 "nbformat": 4,
 "nbformat_minor": 2
}
