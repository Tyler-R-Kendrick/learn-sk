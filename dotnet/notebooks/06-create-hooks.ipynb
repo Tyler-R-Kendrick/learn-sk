{
 "cells": [
  {
   "cell_type": "code",
   "execution_count": null,
   "metadata": {},
   "outputs": [],
   "source": [
    "# Hooks\n",
    "\n",
    "## AutoFunctionInvocationFilters\n",
    "\n",
    "## FunctionFilters\n",
    "\n",
    "## Prompt Filters\n",
    "\n",
    "## Patterns and Practices\n",
    "\n",
    "### Logging\n",
    "\n",
    "### Retry\n",
    "\n",
    "### Human-in-the-loop\n",
    "\n"
   ]
  }
 ],
 "metadata": {
  "language_info": {
   "name": "csharp"
  }
 },
 "nbformat": 4,
 "nbformat_minor": 2
}
