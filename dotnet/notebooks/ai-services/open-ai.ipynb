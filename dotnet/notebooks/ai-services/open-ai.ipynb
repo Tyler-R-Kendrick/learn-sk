{
 "cells": [
  {
   "cell_type": "markdown",
   "metadata": {},
   "source": [
    "# Open AI Services\n",
    "\n",
    "Open AI supports Chat Completion, Text Generation, Text-to-Image, "
   ]
  },
  {
   "cell_type": "code",
   "execution_count": null,
   "metadata": {
    "dotnet_interactive": {
     "language": "csharp"
    },
    "polyglot_notebook": {
     "kernelName": "csharp"
    },
    "vscode": {
     "languageId": "polyglot-notebook"
    }
   },
   "outputs": [
    {
     "data": {
      "text/html": [
       "<div><div></div><div></div><div><strong>Installed Packages</strong><ul><li><span>Microsoft.SemanticKernel.Connectors.OpenAI, 1.20.0</span></li></ul></div></div>"
      ]
     },
     "metadata": {},
     "output_type": "display_data"
    }
   ],
   "source": [
    "#r \"nuget:Microsoft.SemanticKernel.Connectors.OpenAI, 1.20.0-alpha\""
   ]
  },
  {
   "cell_type": "code",
   "execution_count": 43,
   "metadata": {
    "dotnet_interactive": {
     "language": "csharp"
    },
    "polyglot_notebook": {
     "kernelName": "csharp"
    },
    "vscode": {
     "languageId": "polyglot-notebook"
    }
   },
   "outputs": [
    {
     "ename": "Error",
     "evalue": "(6,8): error CS0104: 'Kernel' is an ambiguous reference between 'Microsoft.DotNet.Interactive.Kernel' and 'Microsoft.SemanticKernel.Kernel'\n(10,24): error CS0104: 'Kernel' is an ambiguous reference between 'Microsoft.DotNet.Interactive.Kernel' and 'Microsoft.SemanticKernel.Kernel'\n(36,30): error CS0104: 'Kernel' is an ambiguous reference between 'Microsoft.DotNet.Interactive.Kernel' and 'Microsoft.SemanticKernel.Kernel'\n(37,17): error CS0104: 'Kernel' is an ambiguous reference between 'Microsoft.DotNet.Interactive.Kernel' and 'Microsoft.SemanticKernel.Kernel'\n(42,8): error CS0104: 'Kernel' is an ambiguous reference between 'Microsoft.DotNet.Interactive.Kernel' and 'Microsoft.SemanticKernel.Kernel'",
     "output_type": "error",
     "traceback": [
      "(6,8): error CS0104: 'Kernel' is an ambiguous reference between 'Microsoft.DotNet.Interactive.Kernel' and 'Microsoft.SemanticKernel.Kernel'\n",
      "(10,24): error CS0104: 'Kernel' is an ambiguous reference between 'Microsoft.DotNet.Interactive.Kernel' and 'Microsoft.SemanticKernel.Kernel'\n",
      "(36,30): error CS0104: 'Kernel' is an ambiguous reference between 'Microsoft.DotNet.Interactive.Kernel' and 'Microsoft.SemanticKernel.Kernel'\n",
      "(37,17): error CS0104: 'Kernel' is an ambiguous reference between 'Microsoft.DotNet.Interactive.Kernel' and 'Microsoft.SemanticKernel.Kernel'\n",
      "(42,8): error CS0104: 'Kernel' is an ambiguous reference between 'Microsoft.DotNet.Interactive.Kernel' and 'Microsoft.SemanticKernel.Kernel'"
     ]
    },
    {
     "ename": "Error",
     "evalue": "(1,32): error CS0234: The type or namespace name 'Abstractions' does not exist in the namespace 'Microsoft.SemanticKernel' (are you missing an assembly reference?)",
     "output_type": "error",
     "traceback": [
      "(1,32): error CS0234: The type or namespace name 'Abstractions' does not exist in the namespace 'Microsoft.SemanticKernel' (are you missing an assembly reference?)"
     ]
    }
   ],
   "source": [
    "#!import \"../utils/variables.csx\"\n",
    "using Microsoft.SemanticKernel.Abstractions;\n",
    "\n",
    "string modelId = await RequestVar(nameof(modelId), \"A valid OpenAI model.\");\n",
    "string apiKey = await RequestVar(nameof(apiKey), \"An OpenAI API Key.\", true);\n",
    "string orgId = await RequestVar(nameof(orgId), \"An Org Id for OpenAI.\");\n",
    "\n",
    "IKernelBuilder kernelBuilder = await VarOrDefault(nameof(IKernelBuilder),\n",
    "    () => Task.FromResult(Microsoft.SemanticKernel.Kernel.CreateBuilder()));"
   ]
  },
  {
   "cell_type": "markdown",
   "metadata": {},
   "source": [
    "## Text Generation"
   ]
  },
  {
   "cell_type": "code",
   "execution_count": 27,
   "metadata": {
    "dotnet_interactive": {
     "language": "csharp"
    },
    "polyglot_notebook": {
     "kernelName": "csharp"
    },
    "vscode": {
     "languageId": "polyglot-notebook"
    }
   },
   "outputs": [
    {
     "ename": "Error",
     "evalue": "(4,1): error CS0103: The name 'kernelBuilder' does not exist in the current context",
     "output_type": "error",
     "traceback": [
      "(4,1): error CS0103: The name 'kernelBuilder' does not exist in the current context"
     ]
    }
   ],
   "source": [
    "using Microsoft.SemanticKernel;\n",
    "\n",
    "#pragma warning disable SKEXP0010\n",
    "kernelBuilder.AddOpenAITextEmbeddingGeneration(\n",
    "    modelId: modelId,\n",
    "    apiKey: apiKey,\n",
    "    orgId: orgId,\n",
    "    serviceId: \"open-ai\", //Use a service Id so we can select which AI Service we want to use.\n",
    "    httpClient: null,\n",
    "    dimensions: null);"
   ]
  }
 ],
 "metadata": {
  "kernelspec": {
   "display_name": ".NET (C#)",
   "language": "C#",
   "name": ".net-csharp"
  },
  "language_info": {
   "name": "csharp"
  },
  "polyglot_notebook": {
   "kernelInfo": {
    "defaultKernelName": "csharp",
    "items": [
     {
      "aliases": [],
      "name": "csharp"
     }
    ]
   }
  }
 },
 "nbformat": 4,
 "nbformat_minor": 2
}
