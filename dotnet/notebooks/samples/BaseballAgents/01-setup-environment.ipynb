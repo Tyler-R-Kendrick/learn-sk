{
 "cells": [
  {
   "cell_type": "markdown",
   "metadata": {},
   "source": [
    "# Setting up your environment\n",
    "\n",
    "Run through each of these steps before moving on to the next notebook.\n",
    "\n",
    "## Allocate the Azure Resources\n",
    "\n",
    "* Create an AOAI instance\n",
    "  * Configure a gpt4o model instance.\n",
    "\n",
    "## Set the env variables\n",
    "\n",
    "* \"APPLICATIONSETTINGS__OPENAI__ENDPOINT\"\n",
    "* \"APPLICATIONSETTINGS__OPENAI__KEY\" \n",
    "* \"APPLICATIONSETTINGS__OPENAI__MODELNAME\"\n"
   ]
  }
 ],
 "metadata": {
  "language_info": {
   "name": "csharp"
  }
 },
 "nbformat": 4,
 "nbformat_minor": 2
}
